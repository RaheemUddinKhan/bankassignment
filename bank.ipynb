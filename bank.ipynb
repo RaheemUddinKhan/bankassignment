{
 "cells": [
  {
   "cell_type": "markdown",
   "id": "7be91dcb-02c5-4e49-abc6-429b0fdacb62",
   "metadata": {},
   "source": [
    "# bank"
   ]
  },
  {
   "cell_type": "code",
   "execution_count": 2,
   "id": "26d4003d-9c35-4b20-8952-1fe57fbd486d",
   "metadata": {},
   "outputs": [
    {
     "name": "stdout",
     "output_type": "stream",
     "text": [
      "Welcome to the Banking System!\n",
      "\n",
      "Choose an option:\n",
      "1. Create New Account\n",
      "2. Access Existing Account\n",
      "3. Exit\n"
     ]
    },
    {
     "name": "stdin",
     "output_type": "stream",
     "text": [
      "Enter your choice:  1\n",
      "Enter your name:  khan\n",
      "Set a password for your account:  abc\n"
     ]
    },
    {
     "name": "stdout",
     "output_type": "stream",
     "text": [
      "\n",
      "Account created successfully!\n",
      "Name: khan\n",
      "Account Number: 829586\n",
      "Created on: \u001b[34m2025-01-03 10:40:50\u001b[0m\n",
      "\n",
      "\n",
      "Choose an option:\n",
      "1. Create New Account\n",
      "2. Access Existing Account\n",
      "3. Exit\n"
     ]
    },
    {
     "name": "stdin",
     "output_type": "stream",
     "text": [
      "Enter your choice:  2\n",
      "Enter your account number:  829586\n",
      "Enter your password:  abc\n"
     ]
    },
    {
     "name": "stdout",
     "output_type": "stream",
     "text": [
      "\n",
      "Welcome back, khan!\n",
      "\n",
      "Choose an option:\n",
      "1. Deposit Money\n",
      "2. Withdraw Money\n",
      "3. Check Balance\n",
      "4. Print Statement\n",
      "5. Go Back\n"
     ]
    },
    {
     "name": "stdin",
     "output_type": "stream",
     "text": [
      "Enter your choice:  4\n"
     ]
    },
    {
     "name": "stdout",
     "output_type": "stream",
     "text": [
      "\n",
      "Account statement for khan:\n",
      "- Account created on 2025-01-03 10:40:50\n",
      "\n",
      "\n",
      "Choose an option:\n",
      "1. Deposit Money\n",
      "2. Withdraw Money\n",
      "3. Check Balance\n",
      "4. Print Statement\n",
      "5. Go Back\n"
     ]
    },
    {
     "name": "stdin",
     "output_type": "stream",
     "text": [
      "Enter your choice:  3\n"
     ]
    },
    {
     "name": "stdout",
     "output_type": "stream",
     "text": [
      "Current Balance: \u001b[32m$0.00\u001b[0m\n",
      "\n",
      "\n",
      "Choose an option:\n",
      "1. Deposit Money\n",
      "2. Withdraw Money\n",
      "3. Check Balance\n",
      "4. Print Statement\n",
      "5. Go Back\n"
     ]
    },
    {
     "name": "stdin",
     "output_type": "stream",
     "text": [
      "Enter your choice:  1\n",
      "Enter amount to deposit:  100\n"
     ]
    },
    {
     "name": "stdout",
     "output_type": "stream",
     "text": [
      "Deposited \u001b[32m$100.0\u001b[0m on \u001b[34m2025-01-03 10:44:20\u001b[0m. New Balance: \u001b[32m$100.00\u001b[0m\n",
      "\n",
      "\n",
      "Choose an option:\n",
      "1. Deposit Money\n",
      "2. Withdraw Money\n",
      "3. Check Balance\n",
      "4. Print Statement\n",
      "5. Go Back\n"
     ]
    },
    {
     "name": "stdin",
     "output_type": "stream",
     "text": [
      "Enter your choice:  3\n"
     ]
    },
    {
     "name": "stdout",
     "output_type": "stream",
     "text": [
      "Current Balance: \u001b[32m$100.00\u001b[0m\n",
      "\n",
      "\n",
      "Choose an option:\n",
      "1. Deposit Money\n",
      "2. Withdraw Money\n",
      "3. Check Balance\n",
      "4. Print Statement\n",
      "5. Go Back\n"
     ]
    },
    {
     "name": "stdin",
     "output_type": "stream",
     "text": [
      "Enter your choice:  2\n",
      "Enter amount to withdraw:  20\n"
     ]
    },
    {
     "name": "stdout",
     "output_type": "stream",
     "text": [
      "Withdrew \u001b[31m$20.0\u001b[0m on \u001b[34m2025-01-03 10:45:13\u001b[0m. New Balance: \u001b[32m$80.00\u001b[0m\n",
      "\n",
      "\n",
      "Choose an option:\n",
      "1. Deposit Money\n",
      "2. Withdraw Money\n",
      "3. Check Balance\n",
      "4. Print Statement\n",
      "5. Go Back\n"
     ]
    },
    {
     "name": "stdin",
     "output_type": "stream",
     "text": [
      "Enter your choice:  5\n"
     ]
    },
    {
     "name": "stdout",
     "output_type": "stream",
     "text": [
      "Returning to main menu.\n",
      "\n",
      "\n",
      "Choose an option:\n",
      "1. Create New Account\n",
      "2. Access Existing Account\n",
      "3. Exit\n"
     ]
    },
    {
     "name": "stdin",
     "output_type": "stream",
     "text": [
      "Enter your choice:  3\n"
     ]
    },
    {
     "name": "stdout",
     "output_type": "stream",
     "text": [
      "Thank you for using the Banking System. Goodbye!\n"
     ]
    }
   ],
   "source": [
    "## from datetime import datetime\n",
    "import random\n",
    "\n",
    "# Function to create an account\n",
    "def create_account(accounts):\n",
    "    name = input(\"Enter your name: \")\n",
    "    password = input(\"Set a password for your account: \")\n",
    "    account_no = random.randint(100000, 999999)\n",
    "    \n",
    "    while account_no in accounts:  # Ensure account number is unique\n",
    "        account_no = random.randint(100000, 999999)\n",
    "\n",
    "    timestamp = datetime.now().strftime(\"%Y-%m-%d %H:%M:%S\")\n",
    "    accounts[account_no] = {\n",
    "        \"name\": name,\n",
    "        \"password\": password,\n",
    "        \"balance\": 0.0,\n",
    "        \"transactions\": [f\"Account created on {timestamp}\"]\n",
    "    }\n",
    "    print(f\"\\nAccount created successfully!\")\n",
    "    print(f\"Name: {name}\")\n",
    "    print(f\"Account Number: {account_no}\")\n",
    "    print(f\"Created on: \\033[34m{timestamp}\\033[0m\\n\")\n",
    "    return accounts\n",
    "\n",
    "# Function to deposit money\n",
    "def deposit(account):\n",
    "    amount = float(input(\"Enter amount to deposit: \"))\n",
    "    if amount <= 0:\n",
    "        print(\"Error: Deposit amount must be positive.\\n\")\n",
    "        return account\n",
    "    account[\"balance\"] += amount\n",
    "    timestamp = datetime.now().strftime(\"%Y-%m-%d %H:%M:%S\")\n",
    "    account[\"transactions\"].append(f\"Deposit: \\033[32m${amount}\\033[0m on \\033[34m{timestamp}\\033[0m\")\n",
    "    print(f\"Deposited \\033[32m${amount}\\033[0m on \\033[34m{timestamp}\\033[0m. New Balance: \\033[32m${account['balance']:.2f}\\033[0m\\n\")\n",
    "    return account\n",
    "\n",
    "# Function to withdraw money\n",
    "def withdraw(account):\n",
    "    amount = float(input(\"Enter amount to withdraw: \"))\n",
    "    if amount <= 0:\n",
    "        print(\"Error: Withdrawal amount must be positive.\\n\")\n",
    "        return account\n",
    "    if amount > account[\"balance\"]:\n",
    "        print(\"Error: Insufficient balance.\\n\")\n",
    "        return account\n",
    "    account[\"balance\"] -= amount\n",
    "    timestamp = datetime.now().strftime(\"%Y-%m-%d %H:%M:%S\")\n",
    "    account[\"transactions\"].append(f\"Withdrawal: \\033[31m${amount}\\033[0m on \\033[34m{timestamp}\\033[0m\")\n",
    "    print(f\"Withdrew \\033[31m${amount}\\033[0m on \\033[34m{timestamp}\\033[0m. New Balance: \\033[32m${account['balance']:.2f}\\033[0m\\n\")\n",
    "    return account\n",
    "\n",
    "# Function to check balance\n",
    "def check_balance(account):\n",
    "    print(f\"Current Balance: \\033[32m${account['balance']:.2f}\\033[0m\\n\")\n",
    "\n",
    "# Function to print statement\n",
    "def print_statement(account):\n",
    "    print(f\"\\nAccount statement for {account['name']}:\")\n",
    "    if not account[\"transactions\"]:\n",
    "        print(\"No transactions yet.\")\n",
    "    else:\n",
    "        for transaction in account[\"transactions\"]:\n",
    "            print(f\"- {transaction}\")\n",
    "    print()\n",
    "\n",
    "# Main program workflow\n",
    "if __name__ == \"__main__\":\n",
    "    print(\"Welcome to the Banking System!\")\n",
    "    accounts = {}  # Dictionary to store all accounts\n",
    "\n",
    "    while True:\n",
    "        print(\"\\nChoose an option:\")\n",
    "        print(\"1. Create New Account\")\n",
    "        print(\"2. Access Existing Account\")\n",
    "        print(\"3. Exit\")\n",
    "        choice = input(\"Enter your choice: \")\n",
    "\n",
    "        if choice == \"1\":\n",
    "            accounts = create_account(accounts)\n",
    "        elif choice == \"2\":\n",
    "            if not accounts:\n",
    "                print(\"No accounts available. Please create an account first.\\n\")\n",
    "                continue\n",
    "\n",
    "            account_no = int(input(\"Enter your account number: \"))\n",
    "            if account_no not in accounts:\n",
    "                print(\"Error: Account not found.\\n\")\n",
    "                continue\n",
    "\n",
    "            password = input(\"Enter your password: \")\n",
    "            if accounts[account_no][\"password\"] != password:\n",
    "                print(\"Error: Incorrect password.\\n\")\n",
    "                continue\n",
    "\n",
    "            account = accounts[account_no]\n",
    "            print(f\"\\nWelcome back, {account['name']}!\")\n",
    "\n",
    "            while True:\n",
    "                print(\"\\nChoose an option:\")\n",
    "                print(\"1. Deposit Money\")\n",
    "                print(\"2. Withdraw Money\")\n",
    "                print(\"3. Check Balance\")\n",
    "                print(\"4. Print Statement\")\n",
    "                print(\"5. Go Back\")\n",
    "                sub_choice = input(\"Enter your choice: \")\n",
    "\n",
    "                if sub_choice == \"1\":\n",
    "                    account = deposit(account)\n",
    "                elif sub_choice == \"2\":\n",
    "                    account = withdraw(account)\n",
    "                elif sub_choice == \"3\":\n",
    "                    check_balance(account)\n",
    "                elif sub_choice == \"4\":\n",
    "                    print_statement(account)\n",
    "                elif sub_choice == \"5\":\n",
    "                    print(\"Returning to main menu.\\n\")\n",
    "                    break\n",
    "                else:\n",
    "                    print(\"Invalid choice. Please try again.\\n\")\n",
    "        elif choice == \"3\":\n",
    "            print(\"Thank you for using the Banking System. Goodbye!\")\n",
    "            break\n",
    "        else:\n",
    "            print(\"Invalid choice. Please try again.\\n\")\n"
   ]
  },
 
